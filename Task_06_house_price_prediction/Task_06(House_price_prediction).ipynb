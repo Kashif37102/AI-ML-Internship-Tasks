{
 "cells": [
  {
   "cell_type": "code",
   "execution_count": 1,
   "id": "9bdec8e0-8738-4128-bf48-a591880cea91",
   "metadata": {},
   "outputs": [
    {
     "name": "stdout",
     "output_type": "stream",
     "text": [
      "Requirement already satisfied: kaggle in c:\\users\\hair\\anaconda3\\lib\\site-packages (1.7.4.5)Note: you may need to restart the kernel to use updated packages.\n",
      "\n",
      "Requirement already satisfied: bleach in c:\\users\\hair\\anaconda3\\lib\\site-packages (from kaggle) (4.1.0)\n",
      "Requirement already satisfied: certifi>=14.05.14 in c:\\users\\hair\\anaconda3\\lib\\site-packages (from kaggle) (2025.4.26)\n",
      "Requirement already satisfied: charset-normalizer in c:\\users\\hair\\anaconda3\\lib\\site-packages (from kaggle) (2.0.4)\n",
      "Requirement already satisfied: idna in c:\\users\\hair\\anaconda3\\lib\\site-packages (from kaggle) (3.7)\n",
      "Requirement already satisfied: protobuf in c:\\users\\hair\\anaconda3\\lib\\site-packages (from kaggle) (3.20.3)\n",
      "Requirement already satisfied: python-dateutil>=2.5.3 in c:\\users\\hair\\anaconda3\\lib\\site-packages (from kaggle) (2.9.0.post0)\n",
      "Requirement already satisfied: python-slugify in c:\\users\\hair\\anaconda3\\lib\\site-packages (from kaggle) (5.0.2)\n",
      "Requirement already satisfied: requests in c:\\users\\hair\\anaconda3\\lib\\site-packages (from kaggle) (2.32.2)\n",
      "Requirement already satisfied: setuptools>=21.0.0 in c:\\users\\hair\\anaconda3\\lib\\site-packages (from kaggle) (69.5.1)\n",
      "Requirement already satisfied: six>=1.10 in c:\\users\\hair\\anaconda3\\lib\\site-packages (from kaggle) (1.16.0)\n",
      "Requirement already satisfied: text-unidecode in c:\\users\\hair\\anaconda3\\lib\\site-packages (from kaggle) (1.3)\n",
      "Requirement already satisfied: tqdm in c:\\users\\hair\\anaconda3\\lib\\site-packages (from kaggle) (4.66.4)\n",
      "Requirement already satisfied: urllib3>=1.15.1 in c:\\users\\hair\\anaconda3\\lib\\site-packages (from kaggle) (2.2.2)\n",
      "Requirement already satisfied: webencodings in c:\\users\\hair\\anaconda3\\lib\\site-packages (from kaggle) (0.5.1)\n",
      "Requirement already satisfied: packaging in c:\\users\\hair\\anaconda3\\lib\\site-packages (from bleach->kaggle) (23.2)\n",
      "Requirement already satisfied: colorama in c:\\users\\hair\\anaconda3\\lib\\site-packages (from tqdm->kaggle) (0.4.6)\n"
     ]
    }
   ],
   "source": [
    "%pip install kaggle"
   ]
  },
  {
   "cell_type": "code",
   "execution_count": 2,
   "id": "8195a5a2-07b1-4a84-90ca-783dd5e3ce40",
   "metadata": {},
   "outputs": [
    {
     "name": "stdout",
     "output_type": "stream",
     "text": [
      "house-prices-advanced-regression-techniques.zip: Skipping, found more recently modified local copy (use --force to force download)\n"
     ]
    }
   ],
   "source": [
    "!kaggle competitions download -c house-prices-advanced-regression-techniques"
   ]
  },
  {
   "cell_type": "code",
   "execution_count": 3,
   "id": "cf506bf3-e3af-4db3-a63f-e629762f58fd",
   "metadata": {},
   "outputs": [],
   "source": [
    "import zipfile\n",
    "with zipfile.ZipFile(r\"C:\\Users\\Hair\\AI_ML_Internship\\house-prices-advanced-regression-techniques.zip\", 'r') as zip_ref:\n",
    "    zip_ref.extractall(r\"C:\\Users\\Hair\\AI_ML_Internship\")"
   ]
  },
  {
   "cell_type": "code",
   "execution_count": 4,
   "id": "af268ad9-5b29-4ba1-a046-998c2abbcfed",
   "metadata": {},
   "outputs": [
    {
     "name": "stdout",
     "output_type": "stream",
     "text": [
      "Train Dataset \n",
      "    Id  MSSubClass MSZoning  LotFrontage  LotArea Street Alley LotShape  \\\n",
      "0   1          60       RL         65.0     8450   Pave   NaN      Reg   \n",
      "1   2          20       RL         80.0     9600   Pave   NaN      Reg   \n",
      "2   3          60       RL         68.0    11250   Pave   NaN      IR1   \n",
      "3   4          70       RL         60.0     9550   Pave   NaN      IR1   \n",
      "4   5          60       RL         84.0    14260   Pave   NaN      IR1   \n",
      "5   6          50       RL         85.0    14115   Pave   NaN      IR1   \n",
      "6   7          20       RL         75.0    10084   Pave   NaN      Reg   \n",
      "7   8          60       RL          NaN    10382   Pave   NaN      IR1   \n",
      "8   9          50       RM         51.0     6120   Pave   NaN      Reg   \n",
      "9  10         190       RL         50.0     7420   Pave   NaN      Reg   \n",
      "\n",
      "  LandContour Utilities  ... PoolArea PoolQC  Fence MiscFeature MiscVal  \\\n",
      "0         Lvl    AllPub  ...        0    NaN    NaN         NaN       0   \n",
      "1         Lvl    AllPub  ...        0    NaN    NaN         NaN       0   \n",
      "2         Lvl    AllPub  ...        0    NaN    NaN         NaN       0   \n",
      "3         Lvl    AllPub  ...        0    NaN    NaN         NaN       0   \n",
      "4         Lvl    AllPub  ...        0    NaN    NaN         NaN       0   \n",
      "5         Lvl    AllPub  ...        0    NaN  MnPrv        Shed     700   \n",
      "6         Lvl    AllPub  ...        0    NaN    NaN         NaN       0   \n",
      "7         Lvl    AllPub  ...        0    NaN    NaN        Shed     350   \n",
      "8         Lvl    AllPub  ...        0    NaN    NaN         NaN       0   \n",
      "9         Lvl    AllPub  ...        0    NaN    NaN         NaN       0   \n",
      "\n",
      "  MoSold YrSold  SaleType  SaleCondition  SalePrice  \n",
      "0      2   2008        WD         Normal     208500  \n",
      "1      5   2007        WD         Normal     181500  \n",
      "2      9   2008        WD         Normal     223500  \n",
      "3      2   2006        WD        Abnorml     140000  \n",
      "4     12   2008        WD         Normal     250000  \n",
      "5     10   2009        WD         Normal     143000  \n",
      "6      8   2007        WD         Normal     307000  \n",
      "7     11   2009        WD         Normal     200000  \n",
      "8      4   2008        WD        Abnorml     129900  \n",
      "9      1   2008        WD         Normal     118000  \n",
      "\n",
      "[10 rows x 81 columns]\n"
     ]
    }
   ],
   "source": [
    "import pandas as pd\n",
    "# load train dataset\n",
    "df_train=pd.read_csv(\"train.csv\")\n",
    "# load test dataset\n",
    "df_test=pd.read_csv(\"test.csv\")\n",
    "print(\"Train Dataset \\n\", df_train.head(10))"
   ]
  },
  {
   "cell_type": "code",
   "execution_count": 5,
   "id": "bbcd5c11-6c7d-404d-9583-6893ff910a34",
   "metadata": {
    "scrolled": true
   },
   "outputs": [
    {
     "name": "stdout",
     "output_type": "stream",
     "text": [
      "............Checking missing values in the training dataset and testing dataset..............\n",
      "              Missing_Values  Missing_Percentage\n",
      "PoolQC                  1453           99.520548\n",
      "MiscFeature             1406           96.301370\n",
      "Alley                   1369           93.767123\n",
      "Fence                   1179           80.753425\n",
      "MasVnrType               872           59.726027\n",
      "FireplaceQu              690           47.260274\n",
      "LotFrontage              259           17.739726\n",
      "GarageType                81            5.547945\n",
      "GarageYrBlt               81            5.547945\n",
      "GarageFinish              81            5.547945\n",
      "GarageQual                81            5.547945\n",
      "GarageCond                81            5.547945\n",
      "BsmtFinType2              38            2.602740\n",
      "BsmtExposure              38            2.602740\n",
      "BsmtFinType1              37            2.534247\n",
      "BsmtCond                  37            2.534247\n",
      "BsmtQual                  37            2.534247\n",
      "MasVnrArea                 8            0.547945\n",
      "Electrical                 1            0.068493\n",
      ".............Checking missing values in the test dataset................\n",
      "              Missing_Values  Missing_Percentage\n",
      "PoolQC                  1456           99.794380\n",
      "MiscFeature             1408           96.504455\n",
      "Alley                   1352           92.666210\n",
      "Fence                   1169           80.123372\n",
      "MasVnrType               894           61.274846\n",
      "FireplaceQu              730           50.034270\n",
      "LotFrontage              227           15.558602\n",
      "GarageCond                78            5.346127\n",
      "GarageYrBlt               78            5.346127\n",
      "GarageQual                78            5.346127\n",
      "GarageFinish              78            5.346127\n",
      "GarageType                76            5.209047\n",
      "BsmtCond                  45            3.084304\n",
      "BsmtExposure              44            3.015764\n",
      "BsmtQual                  44            3.015764\n",
      "BsmtFinType1              42            2.878684\n",
      "BsmtFinType2              42            2.878684\n",
      "MasVnrArea                15            1.028101\n",
      "MSZoning                   4            0.274160\n",
      "BsmtFullBath               2            0.137080\n",
      "BsmtHalfBath               2            0.137080\n",
      "Functional                 2            0.137080\n",
      "Utilities                  2            0.137080\n",
      "GarageCars                 1            0.068540\n",
      "GarageArea                 1            0.068540\n",
      "TotalBsmtSF                1            0.068540\n",
      "KitchenQual                1            0.068540\n",
      "BsmtUnfSF                  1            0.068540\n",
      "BsmtFinSF2                 1            0.068540\n",
      "BsmtFinSF1                 1            0.068540\n",
      "Exterior2nd                1            0.068540\n",
      "Exterior1st                1            0.068540\n",
      "SaleType                   1            0.068540\n"
     ]
    }
   ],
   "source": [
    "print(\"............Checking missing values in the training dataset and testing dataset..............\")\n",
    "missing_values=df_train.isnull().sum()\n",
    "missing_values=missing_values[missing_values>0]\n",
    "missing_percentage=(missing_values/len(df_train)*100)\n",
    "\n",
    "missing_df=pd.DataFrame({\n",
    "    'Missing_Values':missing_values,\n",
    "    'Missing_Percentage':missing_percentage\n",
    "})\n",
    "print(missing_df.sort_values(by='Missing_Values', ascending=False))\n",
    "\n",
    "# for test dataset\n",
    "print(\".............Checking missing values in the test dataset................\")\n",
    "missing_test=df_test.isnull().sum()\n",
    "missing_test=missing_test[missing_test>0]\n",
    "missing_percen=(missing_test/len(df_test)*100)\n",
    "missing_df_test=pd.DataFrame({\n",
    "    'Missing_Values':missing_test,\n",
    "    'Missing_Percentage':missing_percen\n",
    "})\n",
    "print(missing_df_test.sort_values(by='Missing_Values', ascending=False))\n"
   ]
  },
  {
   "cell_type": "code",
   "execution_count": 6,
   "id": "6ee2b22a-9c62-42f5-ba64-ef0c17b5ffb3",
   "metadata": {},
   "outputs": [],
   "source": [
    "# Drop column where missing values percentage is greater than 50%\n",
    "# drop from training dataset\n",
    "drop_col_training = ['PoolQC','MiscFeature','Alley','Fence','MasVnrType']\n",
    "df_train.drop(columns=[col for col in drop_col_training if col in df_train.columns], inplace=True)\n",
    "\n",
    "# drop column from testing dataset\n",
    "drop_col_testing = ['PoolQC','MiscFeature','Alley','Fence','MasVnrType']\n",
    "df_test.drop(columns=[col for col in drop_col_testing if col in df_test.columns], inplace=True)"
   ]
  },
  {
   "cell_type": "code",
   "execution_count": 7,
   "id": "8f6dde74-3b5a-4b8a-91b7-7b9ee97c8955",
   "metadata": {},
   "outputs": [],
   "source": [
    "# handle missing values having percentage less than 50%\n",
    "garage_cols_train = ['GarageType', 'GarageFinish', 'GarageQual', 'GarageCond']\n",
    "df_train[garage_cols_train] = df_train[garage_cols_train].fillna('None')\n",
    "\n",
    "garage_cols_test = ['GarageType', 'GarageFinish', 'GarageQual', 'GarageCond']\n",
    "df_test[garage_cols_test] = df_test[garage_cols_test].fillna('None')\n",
    "\n",
    "# filled with mean\n",
    "df_train['GarageYrBlt'] = df_train['GarageYrBlt'].fillna(df_train['GarageYrBlt'].mean())\n",
    "df_test['GarageYrBlt'] = df_test['GarageYrBlt'].fillna(df_test['GarageYrBlt'].mean())\n",
    "\n",
    "\n",
    "# Basement related columns\n",
    "bsmt_cols_train = ['BsmtQual', 'BsmtCond', 'BsmtExposure', 'BsmtFinType1', 'BsmtFinType2']\n",
    "df_train[bsmt_cols_train] = df_train[bsmt_cols_train].fillna('None')\n",
    "\n",
    "bsmt_cols_test = ['BsmtQual', 'BsmtCond', 'BsmtExposure', 'BsmtFinType1', 'BsmtFinType2']\n",
    "df_test[bsmt_cols_test] = df_test[bsmt_cols_test].fillna('None')\n",
    "\n"
   ]
  },
  {
   "cell_type": "code",
   "execution_count": 8,
   "id": "5b60d0e4-8b44-4bfb-bd79-59287d241b22",
   "metadata": {},
   "outputs": [],
   "source": [
    "# training dataset\n",
    "df_train['LotFrontage'] = df_train['LotFrontage'].fillna(df_train['LotFrontage'].median())\n",
    "df_train['MasVnrArea'] = df_train['MasVnrArea'].fillna(0)\n",
    "df_train['Electrical'] = df_train['Electrical'].fillna(df_train['Electrical'].mode()[0])\n",
    "\n",
    "# tesing dataset\n",
    "df_test['LotFrontage'] = df_test['LotFrontage'].fillna(df_test['LotFrontage'].median())\n",
    "df_test['MasVnrArea'] = df_test['MasVnrArea'].fillna(0)\n",
    "df_test['Electrical'] = df_test['Electrical'].fillna(df_test['Electrical'].mode()[0])"
   ]
  },
  {
   "cell_type": "code",
   "execution_count": 9,
   "id": "dcab002a-be8f-41c3-aa6d-4c5dfe79a06d",
   "metadata": {},
   "outputs": [
    {
     "name": "stdout",
     "output_type": "stream",
     "text": [
      "FireplaceQu    690\n",
      "dtype: int64\n",
      "MSZoning          4\n",
      "Utilities         2\n",
      "Exterior1st       1\n",
      "Exterior2nd       1\n",
      "BsmtFinSF1        1\n",
      "BsmtFinSF2        1\n",
      "BsmtUnfSF         1\n",
      "TotalBsmtSF       1\n",
      "BsmtFullBath      2\n",
      "BsmtHalfBath      2\n",
      "KitchenQual       1\n",
      "Functional        2\n",
      "FireplaceQu     730\n",
      "GarageCars        1\n",
      "GarageArea        1\n",
      "SaleType          1\n",
      "dtype: int64\n"
     ]
    }
   ],
   "source": [
    "# check after handling missing values\n",
    "missing_values_train=df_train.isnull().sum()\n",
    "missing_values_train=missing_values_train[missing_values_train>0]\n",
    "\n",
    "missing_values_test=df_test.isnull().sum()\n",
    "missing_values_test=missing_values_test[missing_values_test>0]\n",
    "\n",
    "print(missing_values_train)\n",
    "print(missing_values_test)"
   ]
  },
  {
   "cell_type": "code",
   "execution_count": 10,
   "id": "5f67144d-aedf-405a-9333-c15a414d75c2",
   "metadata": {},
   "outputs": [],
   "source": [
    "# Handles above missing values\n",
    "# handle categorial columns\n",
    "cat_mode_cols = ['MSZoning', 'Utilities', 'Exterior1st', 'Exterior2nd',\n",
    "                 'KitchenQual', 'Functional', 'SaleType']\n",
    "for col in cat_mode_cols:\n",
    "    df_test[col] = df_test[col].fillna(df_test[col].mode()[0])\n",
    "\n",
    "num_median_cols = ['BsmtFinSF1', 'BsmtFinSF2', 'BsmtUnfSF', 'TotalBsmtSF',\n",
    "                   'BsmtFullBath', 'BsmtHalfBath', 'GarageCars', 'GarageArea']\n",
    "for col in num_median_cols:\n",
    "    df_test[col] = df_test[col].fillna(df_test[col].median())\n",
    "    "
   ]
  },
  {
   "cell_type": "code",
   "execution_count": 11,
   "id": "aa703ce9-774d-41df-8098-02c3cfe4c8e1",
   "metadata": {},
   "outputs": [
    {
     "name": "stdout",
     "output_type": "stream",
     "text": [
      "Id               0\n",
      "MSSubClass       0\n",
      "MSZoning         0\n",
      "LotFrontage      0\n",
      "LotArea          0\n",
      "                ..\n",
      "MiscVal          0\n",
      "MoSold           0\n",
      "YrSold           0\n",
      "SaleType         0\n",
      "SaleCondition    0\n",
      "Length: 75, dtype: int64 Id               0\n",
      "MSSubClass       0\n",
      "MSZoning         0\n",
      "LotFrontage      0\n",
      "LotArea          0\n",
      "                ..\n",
      "MoSold           0\n",
      "YrSold           0\n",
      "SaleType         0\n",
      "SaleCondition    0\n",
      "SalePrice        0\n",
      "Length: 76, dtype: int64\n",
      "Id               0\n",
      "MSSubClass       0\n",
      "MSZoning         0\n",
      "LotFrontage      0\n",
      "LotArea          0\n",
      "                ..\n",
      "MiscVal          0\n",
      "MoSold           0\n",
      "YrSold           0\n",
      "SaleType         0\n",
      "SaleCondition    0\n",
      "Length: 75, dtype: int64 Id               0\n",
      "MSSubClass       0\n",
      "MSZoning         0\n",
      "LotFrontage      0\n",
      "LotArea          0\n",
      "                ..\n",
      "MoSold           0\n",
      "YrSold           0\n",
      "SaleType         0\n",
      "SaleCondition    0\n",
      "SalePrice        0\n",
      "Length: 76, dtype: int64\n"
     ]
    }
   ],
   "source": [
    "for df in [df_test,df_train]:\n",
    "    print(df_test.isnull().sum(),df_train.isnull().sum())"
   ]
  },
  {
   "cell_type": "code",
   "execution_count": 62,
   "id": "2e5c5bc4-497a-4015-9f0b-282827470d48",
   "metadata": {},
   "outputs": [
    {
     "name": "stdout",
     "output_type": "stream",
     "text": [
      "Final shape after encoding: (1460, 283)\n"
     ]
    }
   ],
   "source": [
    "# Select categorical columns dynamically\n",
    "categorical_cols = df.select_dtypes(include=['object']).columns.tolist()\n",
    "\n",
    "# One-hot encoding\n",
    "encoder = OneHotEncoder(handle_unknown='ignore', sparse_output=False)\n",
    "encoded_data = encoder.fit_transform(df[categorical_cols])\n",
    "\n",
    "# Convert back to DataFrame\n",
    "encoded_df = pd.DataFrame(encoded_data, columns=encoder.get_feature_names_out(categorical_cols))\n",
    "\n",
    "# Combine with numerical columns\n",
    "final_df = pd.concat([df.drop(columns=categorical_cols).reset_index(drop=True),\n",
    "                      encoded_df.reset_index(drop=True)], axis=1)\n",
    "\n",
    "print(\"Final shape after encoding:\", final_df.shape)"
   ]
  },
  {
   "cell_type": "code",
   "execution_count": 84,
   "id": "3cd31459-0f7f-42d7-a21a-3bef47b7fd65",
   "metadata": {},
   "outputs": [
    {
     "name": "stdout",
     "output_type": "stream",
     "text": [
      "Final test shape after encoding: (1459, 282)\n"
     ]
    }
   ],
   "source": [
    "# Select categorical columns dynamically from train\n",
    "categorical_cols = train_df.select_dtypes(include=['object']).columns.tolist()\n",
    "\n",
    "# One-hot encoding using the already fitted encoder\n",
    "encoded_data_test = encoder.transform(test_df[categorical_cols])\n",
    "\n",
    "# Convert back to DataFrame\n",
    "encoded_df_test = pd.DataFrame(encoded_data_test, columns=encoder.get_feature_names_out(categorical_cols))\n",
    "\n",
    "# Combine with numerical columns\n",
    "final_test_df = pd.concat(\n",
    "    [test_df.drop(columns=categorical_cols).reset_index(drop=True),\n",
    "     encoded_df_test.reset_index(drop=True)],\n",
    "    axis=1\n",
    ")\n",
    "\n",
    "print(\"Final test shape after encoding:\", final_test_df.shape)\n"
   ]
  },
  {
   "cell_type": "code",
   "execution_count": 88,
   "id": "d26f0cf0-24be-4086-951e-21d0b9415b48",
   "metadata": {},
   "outputs": [
    {
     "name": "stdout",
     "output_type": "stream",
     "text": [
      "<class 'pandas.core.frame.DataFrame'>\n",
      "RangeIndex: 1459 entries, 0 to 1458\n",
      "Columns: 282 entries, Id to SaleCondition_Partial\n",
      "dtypes: float64(256), int64(26)\n",
      "memory usage: 3.1 MB\n",
      "None\n"
     ]
    }
   ],
   "source": [
    "print(final_test_df.info())"
   ]
  },
  {
   "cell_type": "code",
   "execution_count": 99,
   "id": "71cba013-58f1-470b-9be9-d1270d67bb43",
   "metadata": {},
   "outputs": [
    {
     "name": "stdout",
     "output_type": "stream",
     "text": [
      "✅ Predictions saved to submission.csv\n"
     ]
    }
   ],
   "source": [
    "from sklearn.ensemble import RandomForestRegressor\n",
    "\n",
    "# Step 1: Split features and target\n",
    "X_train = final_df.drop(columns=[\"SalePrice\"])  # Replace 'SalePrice' with your target column name\n",
    "y_train = final_df[\"SalePrice\"]\n",
    "\n",
    "# Step 2: Train the model\n",
    "model = RandomForestRegressor(random_state=42)\n",
    "model.fit(X_train, y_train)\n",
    "\n",
    "# Step 3: Predict on test set\n",
    "predictions = model.predict(final_test_df)\n",
    "\n",
    "# Step 4: Save predictions to CSV\n",
    "import pandas as pd\n",
    "submission = pd.DataFrame({\n",
    "    \"Id\": test_df[\"Id\"],  # Assuming 'Id' column \n",
    "    \"SalePrice\": predictions\n",
    "})\n",
    "submission.to_csv(\"submission.csv\", index=False)\n",
    "\n",
    "print(\"✅ Predictions saved to submission.csv\")\n"
   ]
  },
  {
   "cell_type": "code",
   "execution_count": 94,
   "id": "241638e9-68c2-407f-89c1-0a546d0b32ac",
   "metadata": {},
   "outputs": [
    {
     "name": "stdout",
     "output_type": "stream",
     "text": [
      "Validation RMSE: 28701.763608735866\n"
     ]
    }
   ],
   "source": [
    "from sklearn.model_selection import train_test_split\n",
    "from sklearn.ensemble import RandomForestRegressor\n",
    "from sklearn.metrics import mean_squared_error\n",
    "import numpy as np\n",
    "\n",
    "# 1. Target column\n",
    "target = \"SalePrice\"\n",
    "\n",
    "# 2. Split X and y\n",
    "X = final_df.drop(columns=[target])\n",
    "y = final_df[target]\n",
    "\n",
    "# 3. Train-test split for evaluation\n",
    "X_train, X_val, y_train, y_val = train_test_split(X, y, test_size=0.2, random_state=42)\n",
    "\n",
    "# 4. Train a model\n",
    "model = RandomForestRegressor(n_estimators=100, random_state=42)\n",
    "model.fit(X_train, y_train)\n",
    "\n",
    "# 5. Validate\n",
    "y_pred = model.predict(X_val)\n",
    "rmse = np.sqrt(mean_squared_error(y_val, y_pred))\n",
    "print(\"Validation RMSE:\", rmse)\n",
    "\n",
    "# 6. Predict on test set\n",
    "test_predictions = model.predict(final_test_df)  # final_df_test is your encoded test data\n"
   ]
  },
  {
   "cell_type": "code",
   "execution_count": 106,
   "id": "957bfd9f-c231-4475-b5c9-f41d611310ce",
   "metadata": {},
   "outputs": [
    {
     "name": "stdout",
     "output_type": "stream",
     "text": [
      "Submission file saved as submission.csv\n"
     ]
    }
   ],
   "source": [
    "\n",
    "# Store the IDs before dropping/encoding\n",
    "test_ids = test_df[\"Id\"]\n",
    "\n",
    "# Select categorical columns dynamically\n",
    "categorical_cols_test = test_df.select_dtypes(include=['object']).columns.tolist()\n",
    "\n",
    "# One-hot encode with the same encoder from training\n",
    "encoded_test_data = encoder.transform(test_df[categorical_cols_test])\n",
    "\n",
    "# Convert to DataFrame\n",
    "encoded_test_df = pd.DataFrame(encoded_test_data, columns=encoder.get_feature_names_out(categorical_cols_test))\n",
    "\n",
    "# Combine with numerical columns\n",
    "final_df_test = pd.concat(\n",
    "    [test_df.drop(columns=categorical_cols_test).reset_index(drop=True),\n",
    "     encoded_test_df.reset_index(drop=True)],\n",
    "    axis=1\n",
    ")\n",
    "\n",
    "# Predict on test set\n",
    "test_preds = model.predict(final_df_test)\n",
    "\n",
    "# Save predictions\n",
    "output = pd.DataFrame({\n",
    "    \"Id\": test_ids,\n",
    "    \"SalePrice\": test_preds\n",
    "})\n",
    "output.to_csv(\"submission.csv\", index=False)\n",
    "print(\"Submission file saved as submission.csv\")\n"
   ]
  },
  {
   "cell_type": "code",
   "execution_count": 112,
   "id": "94b6d39e-83c2-4730-8854-7440c3b39d5a",
   "metadata": {},
   "outputs": [
    {
     "name": "stdout",
     "output_type": "stream",
     "text": [
      "Validation RMSE: 28741.25\n",
      "Validation MAE: 17556.16\n"
     ]
    },
    {
     "data": {
      "image/png": "[encoded data removed]",
      "text/plain": [
       "<Figure size 800x600 with 1 Axes>"
      ]
     },
     "metadata": {},
     "output_type": "display_data"
    },
    {
     "name": "stdout",
     "output_type": "stream",
     "text": [
      "✅ submission.csv created!\n"
     ]
    }
   ],
   "source": [
    "import pandas as pd\n",
    "from sklearn.model_selection import train_test_split\n",
    "from sklearn.preprocessing import OneHotEncoder\n",
    "from sklearn.ensemble import RandomForestRegressor\n",
    "from sklearn.metrics import mean_squared_error, mean_absolute_error\n",
    "import numpy as np\n",
    "import matplotlib.pyplot as plt\n",
    "\n",
    "# ==== 1. Load train & test data ====\n",
    "train_df = pd.read_csv(\"train.csv\")\n",
    "test_df = pd.read_csv(\"test.csv\")\n",
    "\n",
    "# ==== 2. Separate target ====\n",
    "y = train_df[\"SalePrice\"]\n",
    "X = train_df.drop(columns=[\"SalePrice\", \"Id\"])\n",
    "test_ids = test_df[\"Id\"]\n",
    "X_test = test_df.drop(columns=[\"Id\"])\n",
    "\n",
    "# ==== 4. Train-validation split for evaluation ====\n",
    "X_train, X_val, y_train, y_val = train_test_split(X_final, y, test_size=0.2, random_state=42)\n",
    "\n",
    "# ==== 5. Train the model ====\n",
    "model = RandomForestRegressor(random_state=42, n_estimators=200)\n",
    "model.fit(X_train, y_train)\n",
    "\n",
    "# ==== 6. Local evaluation ====\n",
    "val_preds = model.predict(X_val)\n",
    "\n",
    "rmse = np.sqrt(mean_squared_error(y_val, val_preds))\n",
    "mae = mean_absolute_error(y_val, val_preds)\n",
    "\n",
    "print(f\"Validation RMSE: {rmse:.2f}\")\n",
    "print(f\"Validation MAE: {mae:.2f}\")\n",
    "\n",
    "# ==== 7. Visualization ====\n",
    "plt.figure(figsize=(8, 6))\n",
    "plt.scatter(y_val, val_preds, alpha=0.6, color='teal', edgecolor='k')\n",
    "plt.plot([y_val.min(), y_val.max()], [y_val.min(), y_val.max()], 'r--', lw=2)  # Perfect prediction line\n",
    "plt.xlabel(\"Actual Sale Price\")\n",
    "plt.ylabel(\"Predicted Sale Price\")\n",
    "plt.title(\"Predicted vs Actual Sale Prices\")\n",
    "plt.grid(True)\n",
    "plt.show()\n",
    "\n",
    "# ==== 8. Train on full data ====\n",
    "model.fit(X_final, y)\n",
    "\n",
    "# ==== 9. Predict on test set ====\n",
    "test_preds = model.predict(X_test_final)\n",
    "\n",
    "# ==== 10. Create submission file ====\n",
    "submission = pd.DataFrame({\n",
    "    \"Id\": test_ids,\n",
    "    \"SalePrice\": test_preds\n",
    "})\n",
    "submission.to_csv(\"submission.csv\", index=False)\n",
    "\n",
    "print(\"✅ submission.csv created!\")\n"
   ]
  },
  {
   "cell_type": "code",
   "execution_count": null,
   "id": "ac36d89c-6b25-4628-848e-3fc25e4bdc48",
   "metadata": {},
   "outputs": [],
   "source": []
  }
 ],
 "metadata": {
  "kernelspec": {
   "display_name": "Python 3 (ipykernel)",
   "language": "python",
   "name": "python3"
  },
  "language_info": {
   "codemirror_mode": {
    "name": "ipython",
    "version": 3
   },
   "file_extension": ".py",
   "mimetype": "text/x-python",
   "name": "python",
   "nbconvert_exporter": "python",
   "pygments_lexer": "ipython3",
   "version": "3.12.3"
  }
 },
 "nbformat": 4,
 "nbformat_minor": 5
}
